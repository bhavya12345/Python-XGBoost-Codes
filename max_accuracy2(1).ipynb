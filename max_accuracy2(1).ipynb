{
 "cells": [
  {
   "cell_type": "code",
   "execution_count": 1,
   "metadata": {
    "collapsed": true
   },
   "outputs": [],
   "source": [
    "import pandas as pd\n",
    "import numpy as np\n",
    "import xgboost as xgb\n",
    "X_train = pd.read_csv('C:/Users/bhavyapopli/Desktop/X_train.csv', sep= ' ', header=None)\n",
    "X_test = pd.read_csv('C:/Users/bhavyapopli/Desktop/X_test.csv', sep= ' ', header=None)\n",
    "y_train = pd.read_csv('C:/Users/bhavyapopli/Desktop/y_train.csv', header=None)\n",
    "y_test = pd.read_csv('C:/Users/bhavyapopli/Desktop/y_test.csv', header=None)\n",
    "from sklearn.grid_search import GridSearchCV\n",
    "from xgboost.sklearn import XGBClassifier\n",
    "y_train = np.array(y_train)\n",
    "y_train.shape\n",
    "c,r = y_train.shape\n",
    "y_train = y_train.reshape(c,)"
   ]
  },
  {
   "cell_type": "code",
   "execution_count": 28,
   "metadata": {
    "collapsed": false
   },
   "outputs": [],
   "source": [
    "clf = XGBClassifier(objective='multi:softmax',nthread=-1,max_depth=3,n_estimators=100,subsample=0.5,learning_rate=0.1,base_score=1.0,colsample_bytree=1.0,min_child_weight=1,max_delta_step=0.1)\n",
    "parameters = {'max_delta_step':[0,5,10,15]}\n",
    "model = GridSearchCV(clf, parameters ,n_jobs=-1,cv=4,scoring='accuracy')"
   ]
  },
  {
   "cell_type": "code",
   "execution_count": 29,
   "metadata": {
    "collapsed": false
   },
   "outputs": [
    {
     "data": {
      "text/plain": [
       "([mean: 0.91927, std: 0.02467, params: {'max_delta_step': 0},\n",
       "  mean: 0.91979, std: 0.02182, params: {'max_delta_step': 5},\n",
       "  mean: 0.91927, std: 0.02467, params: {'max_delta_step': 10},\n",
       "  mean: 0.91927, std: 0.02467, params: {'max_delta_step': 15}],\n",
       " {'max_delta_step': 5},\n",
       " 0.9197888502639372)"
      ]
     },
     "execution_count": 29,
     "metadata": {},
     "output_type": "execute_result"
    }
   ],
   "source": [
    "model.fit(X_train,y_train)\n",
    "model.grid_scores_, model.best_params_, model.best_score_"
   ]
  },
  {
   "cell_type": "code",
   "execution_count": 34,
   "metadata": {
    "collapsed": false
   },
   "outputs": [
    {
     "name": "stdout",
     "output_type": "stream",
     "text": [
      "0.938962681847\n"
     ]
    }
   ],
   "source": [
    "clf = XGBClassifier(objective='multi:softmax',nthread=-1,max_depth=3,n_estimators=100,subsample=0.5,learning_rate=0.25,base_score=1.0,colsample_bytree=1.0,min_child_weight=1,max_delta_step=0)\n",
    "clf.fit(X_train,y_train)\n",
    "y_pred = clf.predict(X_test)\n",
    "from sklearn import metrics\n",
    "print metrics.accuracy_score(y_test,y_pred)"
   ]
  },
  {
   "cell_type": "code",
   "execution_count": 78,
   "metadata": {
    "collapsed": false
   },
   "outputs": [
    {
     "name": "stdout",
     "output_type": "stream",
     "text": [
      "0.94908285895\n"
     ]
    }
   ],
   "source": [
    "clf = XGBClassifier(objective='multi:softmax',nthread=-1,max_depth=1,n_estimators=410,subsample=0.5,learning_rate=0.5,base_score=1.0,colsample_bytree=1,min_child_weight=1,max_delta_step=0)\n",
    "clf.fit(X_train,y_train)\n",
    "y_pred = clf.predict(X_test)\n",
    "from sklearn import metrics\n",
    "print metrics.accuracy_score(y_test,y_pred)"
   ]
  },
  {
   "cell_type": "code",
   "execution_count": 79,
   "metadata": {
    "collapsed": false
   },
   "outputs": [
    {
     "name": "stdout",
     "output_type": "stream",
     "text": [
      "0.948134092347\n"
     ]
    }
   ],
   "source": [
    "clf = XGBClassifier(objective='multi:softprob',nthread=-1,max_depth=1,n_estimators=1000,subsample=0.5,learning_rate=0.5,base_score=1.0,colsample_bytree=1.0,min_child_weight=1,max_delta_step=0,reg_alpha=0)\n",
    "clf.fit(X_train,y_train)\n",
    "y_pred = clf.predict(X_test)\n",
    "from sklearn import metrics\n",
    "print metrics.accuracy_score(y_test,y_pred)"
   ]
  },
  {
   "cell_type": "code",
   "execution_count": 77,
   "metadata": {
    "collapsed": false
   },
   "outputs": [
    {
     "name": "stdout",
     "output_type": "stream",
     "text": [
      "0.947501581278\n"
     ]
    }
   ],
   "source": [
    "clf = XGBClassifier(objective='multi:softmax',nthread=-1,max_depth=1,n_estimators=300,subsample=0.5,learning_rate=0.5,base_score=1.0,colsample_bytree=1.0,min_child_weight=1,max_delta_step=0,reg_alpha=0)\n",
    "clf.fit(X_train,y_train)\n",
    "y_pred = clf.predict(X_test)\n",
    "from sklearn import metrics\n",
    "print metrics.accuracy_score(y_test,y_pred)"
   ]
  },
  {
   "cell_type": "code",
   "execution_count": 76,
   "metadata": {
    "collapsed": false
   },
   "outputs": [
    {
     "name": "stdout",
     "output_type": "stream",
     "text": [
      "0.948134092347\n"
     ]
    }
   ],
   "source": [
    "clf = XGBClassifier(objective='multi:softmax',nthread=-1,max_depth=1,n_estimators=750,subsample=0.5,learning_rate=0.5,base_score=1.0,colsample_bytree=1.0,min_child_weight=1,max_delta_step=0)\n",
    "clf.fit(X_train,y_train)\n",
    "y_pred = clf.predict(X_test)\n",
    "from sklearn import metrics\n",
    "print metrics.accuracy_score(y_test,y_pred)"
   ]
  }
 ],
 "metadata": {
  "kernelspec": {
   "display_name": "Python [Root]",
   "language": "python",
   "name": "Python [Root]"
  },
  "language_info": {
   "codemirror_mode": {
    "name": "ipython",
    "version": 2
   },
   "file_extension": ".py",
   "mimetype": "text/x-python",
   "name": "python",
   "nbconvert_exporter": "python",
   "pygments_lexer": "ipython2",
   "version": "2.7.12"
  }
 },
 "nbformat": 4,
 "nbformat_minor": 0
}
