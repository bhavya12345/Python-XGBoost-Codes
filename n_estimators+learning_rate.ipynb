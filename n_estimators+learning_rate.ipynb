{
 "cells": [
  {
   "cell_type": "code",
   "execution_count": 1,
   "metadata": {
    "collapsed": true
   },
   "outputs": [],
   "source": [
    "import pandas as pd\n",
    "import numpy as np\n",
    "import xgboost as xgb"
   ]
  },
  {
   "cell_type": "code",
   "execution_count": 2,
   "metadata": {
    "collapsed": true
   },
   "outputs": [],
   "source": [
    "X_train = pd.read_csv('C:/Users/bhavyapopli/Desktop/X_train.csv', sep= ' ', header=None)\n",
    "X_test = pd.read_csv('C:/Users/bhavyapopli/Desktop/X_test.csv', sep= ' ', header=None)"
   ]
  },
  {
   "cell_type": "code",
   "execution_count": 3,
   "metadata": {
    "collapsed": true
   },
   "outputs": [],
   "source": [
    "y_train = pd.read_csv('C:/Users/bhavyapopli/Desktop/y_train.csv', header=None)\n",
    "y_test = pd.read_csv('C:/Users/bhavyapopli/Desktop/y_test.csv', header=None)"
   ]
  },
  {
   "cell_type": "code",
   "execution_count": 4,
   "metadata": {
    "collapsed": true
   },
   "outputs": [],
   "source": [
    "from sklearn.grid_search import GridSearchCV\n",
    "from xgboost.sklearn import XGBClassifier"
   ]
  },
  {
   "cell_type": "code",
   "execution_count": 5,
   "metadata": {
    "collapsed": false
   },
   "outputs": [
    {
     "data": {
      "text/plain": [
       "(7767L, 1L)"
      ]
     },
     "execution_count": 5,
     "metadata": {},
     "output_type": "execute_result"
    }
   ],
   "source": [
    "y_train = np.array(y_train)\n",
    "y_train.shape"
   ]
  },
  {
   "cell_type": "code",
   "execution_count": 6,
   "metadata": {
    "collapsed": false
   },
   "outputs": [],
   "source": [
    "y_train.shape\n",
    "c,r = y_train.shape\n",
    "y_train = y_train.reshape(c,)"
   ]
  },
  {
   "cell_type": "code",
   "execution_count": 7,
   "metadata": {
    "collapsed": false
   },
   "outputs": [],
   "source": [
    "clf = XGBClassifier(objective='multiclass:softmax',nthread=-1,max_depth=3,n_estimators=1000,subsample=1.0,base_score=1.0)\n",
    "parameters = {'n_estimators':range(4000,1000,-1000),'learning_rate':[0.01,0.05,0.1,0.3]}\n",
    "model = GridSearchCV(clf, parameters ,n_jobs=-1,cv=4,scoring='accuracy')"
   ]
  },
  {
   "cell_type": "code",
   "execution_count": 8,
   "metadata": {
    "collapsed": false
   },
   "outputs": [
    {
     "data": {
      "text/plain": [
       "([mean: 0.92082, std: 0.02280, params: {'n_estimators': 4000, 'learning_rate': 0.01},\n",
       "  mean: 0.92069, std: 0.02336, params: {'n_estimators': 3000, 'learning_rate': 0.01},\n",
       "  mean: 0.91953, std: 0.02386, params: {'n_estimators': 2000, 'learning_rate': 0.01},\n",
       "  mean: 0.91966, std: 0.02355, params: {'n_estimators': 4000, 'learning_rate': 0.05},\n",
       "  mean: 0.91940, std: 0.02384, params: {'n_estimators': 3000, 'learning_rate': 0.05},\n",
       "  mean: 0.91915, std: 0.02364, params: {'n_estimators': 2000, 'learning_rate': 0.05},\n",
       "  mean: 0.91799, std: 0.02361, params: {'n_estimators': 4000, 'learning_rate': 0.1},\n",
       "  mean: 0.91773, std: 0.02348, params: {'n_estimators': 3000, 'learning_rate': 0.1},\n",
       "  mean: 0.91837, std: 0.02363, params: {'n_estimators': 2000, 'learning_rate': 0.1},\n",
       "  mean: 0.92018, std: 0.02245, params: {'n_estimators': 4000, 'learning_rate': 0.3},\n",
       "  mean: 0.92018, std: 0.02245, params: {'n_estimators': 3000, 'learning_rate': 0.3},\n",
       "  mean: 0.92018, std: 0.02245, params: {'n_estimators': 2000, 'learning_rate': 0.3}],\n",
       " {'learning_rate': 0.01, 'n_estimators': 4000},\n",
       " 0.92081884897643873)"
      ]
     },
     "execution_count": 8,
     "metadata": {},
     "output_type": "execute_result"
    }
   ],
   "source": [
    "model.fit(X_train,y_train)\n",
    "model.grid_scores_, model.best_params_, model.best_score_"
   ]
  }
 ],
 "metadata": {
  "anaconda-cloud": {},
  "kernelspec": {
   "display_name": "Python [Root]",
   "language": "python",
   "name": "Python [Root]"
  },
  "language_info": {
   "codemirror_mode": {
    "name": "ipython",
    "version": 2
   },
   "file_extension": ".py",
   "mimetype": "text/x-python",
   "name": "python",
   "nbconvert_exporter": "python",
   "pygments_lexer": "ipython2",
   "version": "2.7.12"
  }
 },
 "nbformat": 4,
 "nbformat_minor": 0
}
