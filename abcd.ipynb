{
 "cells": [
  {
   "cell_type": "code",
   "execution_count": 1,
   "metadata": {
    "collapsed": true
   },
   "outputs": [],
   "source": [
    "import pandas as pd\n",
    "import numpy as np\n",
    "import xgboost as xgb"
   ]
  },
  {
   "cell_type": "code",
   "execution_count": 2,
   "metadata": {
    "collapsed": true
   },
   "outputs": [],
   "source": [
    "X_train = pd.read_csv('C:/Users/bhavyapopli/Desktop/X_train.csv', sep= ' ', header=None)\n",
    "X_test = pd.read_csv('C:/Users/bhavyapopli/Desktop/X_test.csv', sep= ' ', header=None)"
   ]
  },
  {
   "cell_type": "code",
   "execution_count": 3,
   "metadata": {
    "collapsed": true
   },
   "outputs": [],
   "source": [
    "y_train = pd.read_csv('C:/Users/bhavyapopli/Desktop/y_train.csv', header=None)\n",
    "y_test = pd.read_csv('C:/Users/bhavyapopli/Desktop/y_test.csv', header=None)"
   ]
  },
  {
   "cell_type": "code",
   "execution_count": 4,
   "metadata": {
    "collapsed": true
   },
   "outputs": [],
   "source": [
    "from sklearn.grid_search import GridSearchCV\n",
    "from xgboost.sklearn import XGBClassifier"
   ]
  },
  {
   "cell_type": "code",
   "execution_count": 5,
   "metadata": {
    "collapsed": true
   },
   "outputs": [],
   "source": [
    "clf = XGBClassifier(objective='multiclass:softmax',nthread=4,max_depth=3,n_estimators=1000,subsample=0.5)\n",
    "parameters = {'n_estimators':[100,500],'subsample':[0.7,0.9],'reg_alpha':[0.005,0.01]}"
   ]
  },
  {
   "cell_type": "code",
   "execution_count": 6,
   "metadata": {
    "collapsed": true
   },
   "outputs": [],
   "source": [
    "model = GridSearchCV(clf, parameters ,n_jobs=-1,cv=4,scoring='accuracy')"
   ]
  },
  {
   "cell_type": "code",
   "execution_count": 7,
   "metadata": {
    "collapsed": false
   },
   "outputs": [
    {
     "data": {
      "text/plain": [
       "(7767L, 1L)"
      ]
     },
     "execution_count": 7,
     "metadata": {},
     "output_type": "execute_result"
    }
   ],
   "source": [
    "y_train = np.array(y_train)\n",
    "y_train.shape"
   ]
  },
  {
   "cell_type": "code",
   "execution_count": 8,
   "metadata": {
    "collapsed": true
   },
   "outputs": [],
   "source": [
    "c,r = y_train.shape\n",
    "y_train = y_train.reshape(c,)"
   ]
  },
  {
   "cell_type": "code",
   "execution_count": 9,
   "metadata": {
    "collapsed": false
   },
   "outputs": [
    {
     "data": {
      "text/plain": [
       "(7767L,)"
      ]
     },
     "execution_count": 9,
     "metadata": {},
     "output_type": "execute_result"
    }
   ],
   "source": [
    "y_train.shape"
   ]
  },
  {
   "cell_type": "code",
   "execution_count": 10,
   "metadata": {
    "collapsed": false
   },
   "outputs": [
    {
     "data": {
      "text/plain": [
       "([mean: 0.91863, std: 0.02328, params: {'n_estimators': 100, 'subsample': 0.7, 'reg_alpha': 0.005},\n",
       "  mean: 0.91464, std: 0.02361, params: {'n_estimators': 100, 'subsample': 0.9, 'reg_alpha': 0.005},\n",
       "  mean: 0.91837, std: 0.02352, params: {'n_estimators': 100, 'subsample': 0.7, 'reg_alpha': 0.01},\n",
       "  mean: 0.91554, std: 0.02393, params: {'n_estimators': 100, 'subsample': 0.9, 'reg_alpha': 0.01},\n",
       "  mean: 0.92558, std: 0.02111, params: {'n_estimators': 500, 'subsample': 0.7, 'reg_alpha': 0.005},\n",
       "  mean: 0.92082, std: 0.02360, params: {'n_estimators': 500, 'subsample': 0.9, 'reg_alpha': 0.005},\n",
       "  mean: 0.92494, std: 0.02034, params: {'n_estimators': 500, 'subsample': 0.7, 'reg_alpha': 0.01},\n",
       "  mean: 0.92211, std: 0.02221, params: {'n_estimators': 500, 'subsample': 0.9, 'reg_alpha': 0.01}],\n",
       " {'n_estimators': 500, 'reg_alpha': 0.005, 'subsample': 0.7},\n",
       " 0.92558259302175871)"
      ]
     },
     "execution_count": 10,
     "metadata": {},
     "output_type": "execute_result"
    }
   ],
   "source": [
    "model.fit(X_train,y_train)\n",
    "model.grid_scores_, model.best_params_, model.best_score_"
   ]
  }
 ],
 "metadata": {
  "anaconda-cloud": {},
  "kernelspec": {
   "display_name": "Python [Root]",
   "language": "python",
   "name": "Python [Root]"
  },
  "language_info": {
   "codemirror_mode": {
    "name": "ipython",
    "version": 2
   },
   "file_extension": ".py",
   "mimetype": "text/x-python",
   "name": "python",
   "nbconvert_exporter": "python",
   "pygments_lexer": "ipython2",
   "version": "2.7.12"
  }
 },
 "nbformat": 4,
 "nbformat_minor": 0
}
